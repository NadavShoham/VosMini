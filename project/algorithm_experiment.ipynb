{
 "cells": [
  {
   "cell_type": "code",
   "execution_count": 44,
   "metadata": {
    "collapsed": true,
    "ExecuteTime": {
     "end_time": "2023-06-09T12:42:31.308647200Z",
     "start_time": "2023-06-09T12:42:31.288660100Z"
    }
   },
   "outputs": [],
   "source": [
    "from PIL import Image\n",
    "from julia.api import Julia\n",
    "from dpmmpythonStreaming.dpmmwrapper import DPMMPython\n",
    "from dpmmpythonStreaming.priors import niw\n",
    "from utils import (\n",
    "    gif_to_stream,\n",
    "    stream_to_np_array,\n",
    "    transpose_np_array,\n",
    "    stream_to_gif,\n",
    "    np_array_to_stream\n",
    ")\n",
    "import numpy as np\n",
    "from typing import List\n",
    "jl = Julia(compiled_modules=False)"
   ]
  },
  {
   "cell_type": "markdown",
   "source": [
    "## First load the gif into a stream of images"
   ],
   "metadata": {
    "collapsed": false
   }
  },
  {
   "cell_type": "code",
   "execution_count": 21,
   "outputs": [
    {
     "name": "stdout",
     "output_type": "stream",
     "text": [
      "Loaded 8 frames from ./gifs/border_collie_running.gif with size (300, 213)\n"
     ]
    }
   ],
   "source": [
    "gif_path = \"./gifs/border_collie_running.gif\"\n",
    "frames: List[Image.Image] = gif_to_stream(gif_path)\n",
    "# resize if needed\n",
    "# frames = resize_stream(frames, (200, 150))\n",
    "print(f\"Loaded {len(frames)} frames from {gif_path} with size {frames[0].size}\")"
   ],
   "metadata": {
    "collapsed": false,
    "ExecuteTime": {
     "end_time": "2023-06-09T12:06:22.216028Z",
     "start_time": "2023-06-09T12:06:22.121862900Z"
    }
   }
  },
  {
   "cell_type": "markdown",
   "source": [
    "## Change data structure to fit the DPMMPython interface"
   ],
   "metadata": {
    "collapsed": false
   }
  },
  {
   "cell_type": "code",
   "execution_count": 22,
   "outputs": [
    {
     "name": "stdout",
     "output_type": "stream",
     "text": [
      "Data shape: (8, 63900, 3)\n",
      "Data shape after transpose of each frame: (8, 3, 63900)\n"
     ]
    }
   ],
   "source": [
    "data = stream_to_np_array(frames, dtype=np.float32)\n",
    "print(f\"Data shape: {data.shape}\")\n",
    "data = transpose_np_array(data)\n",
    "shape = data.shape\n",
    "print(f\"Data shape after transpose of each frame: {shape}\")"
   ],
   "metadata": {
    "collapsed": false,
    "ExecuteTime": {
     "end_time": "2023-06-09T12:06:22.216028Z",
     "start_time": "2023-06-09T12:06:22.153519300Z"
    }
   }
  },
  {
   "cell_type": "markdown",
   "source": [
    "## Creating a prior suited for images using the niw prior, and other required parameters\n",
    "###### Note: in NIW definition, nu should be greater than the dimension of the data, kappa should be greater than 0, mu should be a vector of the same dimension as the data, and phi should be a square matrix of the same dimension as the data"
   ],
   "metadata": {
    "collapsed": false
   }
  },
  {
   "cell_type": "code",
   "execution_count": 23,
   "outputs": [],
   "source": [
    "prior = niw(1, np.zeros(shape[1]), 3, np.eye(shape[1]) * 0.5)\n",
    "alpha = 10.0\n",
    "head_frame = data[0]\n",
    "tail_frames = data[1:]\n",
    "\n",
    "labels_list = []"
   ],
   "metadata": {
    "collapsed": false,
    "ExecuteTime": {
     "end_time": "2023-06-09T12:06:22.216028Z",
     "start_time": "2023-06-09T12:06:22.169152700Z"
    }
   }
  },
  {
   "cell_type": "markdown",
   "source": [
    "## Initialize the model with the first frame"
   ],
   "metadata": {
    "collapsed": false
   }
  },
  {
   "cell_type": "code",
   "execution_count": 24,
   "outputs": [],
   "source": [
    "model = DPMMPython.fit_init(data=head_frame, alpha=alpha, prior=prior, verbose=True, burnout=5, gt=None, epsilon=0.0000001)\n",
    "labels = np.array(DPMMPython.get_labels(model))\n",
    "labels_list.append(labels)"
   ],
   "metadata": {
    "collapsed": false,
    "ExecuteTime": {
     "end_time": "2023-06-09T12:06:29.026851100Z",
     "start_time": "2023-06-09T12:06:22.184780Z"
    }
   }
  },
  {
   "cell_type": "markdown",
   "source": [
    "## Fit the model to the rest of the frames"
   ],
   "metadata": {
    "collapsed": false
   }
  },
  {
   "cell_type": "code",
   "execution_count": 25,
   "outputs": [],
   "source": [
    "for frame in tail_frames:\n",
    "    model = DPMMPython.fit_partial(model=model, iterations=1, t=2, data=frame)\n",
    "    labels = np.array(DPMMPython.get_labels(model))\n",
    "    labels_list.append(labels)"
   ],
   "metadata": {
    "collapsed": false,
    "ExecuteTime": {
     "end_time": "2023-06-09T12:06:37.097553900Z",
     "start_time": "2023-06-09T12:06:30.155467200Z"
    }
   }
  },
  {
   "cell_type": "code",
   "execution_count": 26,
   "outputs": [
    {
     "name": "stdout",
     "output_type": "stream",
     "text": [
      "labels list shape: (8, 63900)\n",
      "[ 3 36 36 ...  1  1  1]\n"
     ]
    }
   ],
   "source": [
    "print (f\"labels list shape: {np.array(labels_list).shape}\")\n",
    "print(labels_list[0])"
   ],
   "metadata": {
    "collapsed": false,
    "ExecuteTime": {
     "end_time": "2023-06-09T12:06:37.113599200Z",
     "start_time": "2023-06-09T12:06:37.097553900Z"
    }
   }
  },
  {
   "cell_type": "markdown",
   "source": [
    "## Create centroids from the labels and replace each pixel with the centroid of its cluster"
   ],
   "metadata": {
    "collapsed": false
   }
  },
  {
   "cell_type": "code",
   "execution_count": 34,
   "outputs": [
    {
     "name": "stdout",
     "output_type": "stream",
     "text": [
      "Clustered data stream shape: (8, 63900, 3)\n"
     ]
    }
   ],
   "source": [
    "def create_clustered_data(data, labels) -> np.ndarray:\n",
    "    clusters = np.unique(labels)\n",
    "    new_data = np.zeros(data.shape)\n",
    "    for cluster in clusters:\n",
    "        cluster_data = data[labels == cluster]\n",
    "        centroid = np.mean(cluster_data, axis=0)\n",
    "        new_data[labels == cluster] = centroid\n",
    "    return new_data\n",
    "\n",
    "clustered_data_array = []\n",
    "for i in range(len(labels_list)):\n",
    "    clustered_data = create_clustered_data(data[i].T, labels_list[i])\n",
    "    clustered_data_array.append(clustered_data)\n",
    "clustered_data_stream = np.array(clustered_data_array)\n",
    "print(f\"Clustered data stream shape: {clustered_data_stream.shape}\")"
   ],
   "metadata": {
    "collapsed": false,
    "ExecuteTime": {
     "end_time": "2023-06-09T12:18:27.940119100Z",
     "start_time": "2023-06-09T12:18:27.782767100Z"
    }
   }
  },
  {
   "cell_type": "markdown",
   "source": [
    "## Reconstruct a gif from the clustered data"
   ],
   "metadata": {
    "collapsed": false
   }
  },
  {
   "cell_type": "code",
   "execution_count": 40,
   "outputs": [],
   "source": [
    "size = (frames[0].size[1], frames[0].size[0])\n",
    "clustered_frames = np_array_to_stream(clustered_data_array, size=size, dtype=np.uint8)\n",
    "stream_to_gif(clustered_frames, gif_path.replace(\".gif\", \"_clustered.gif\"))"
   ],
   "metadata": {
    "collapsed": false,
    "ExecuteTime": {
     "end_time": "2023-06-09T12:23:59.151981100Z",
     "start_time": "2023-06-09T12:23:59.088946Z"
    }
   }
  }
 ],
 "metadata": {
  "kernelspec": {
   "display_name": "Python 3",
   "language": "python",
   "name": "python3"
  },
  "language_info": {
   "codemirror_mode": {
    "name": "ipython",
    "version": 2
   },
   "file_extension": ".py",
   "mimetype": "text/x-python",
   "name": "python",
   "nbconvert_exporter": "python",
   "pygments_lexer": "ipython2",
   "version": "2.7.6"
  }
 },
 "nbformat": 4,
 "nbformat_minor": 0
}
